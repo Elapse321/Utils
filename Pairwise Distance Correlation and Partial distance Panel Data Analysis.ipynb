{
 "cells": [
  {
   "cell_type": "markdown",
   "id": "58ebe9d3",
   "metadata": {},
   "source": [
    "# Initialization"
   ]
  },
  {
   "cell_type": "code",
   "execution_count": 3,
   "id": "3a0a4470",
   "metadata": {},
   "outputs": [
    {
     "name": "stderr",
     "output_type": "stream",
     "text": [
      "C:\\Users\\ALIENWARE\\anaconda3\\envs\\tf\\lib\\site-packages\\numba\\np\\ufunc\\parallel.py:365: NumbaWarning: \u001b[1mThe TBB threading layer requires TBB version 2019.5 or later i.e., TBB_INTERFACE_VERSION >= 11005. Found TBB_INTERFACE_VERSION = 10005. The TBB threading layer is disabled.\u001b[0m\n",
      "  warnings.warn(problem)\n"
     ]
    }
   ],
   "source": [
    "# Initialization\n",
    "import dcor\n",
    "import numpy as np\n",
    "import pickle\n",
    "import itertools\n",
    "import pandas as pd\n",
    "import os\n",
    "import math\n",
    "from tqdm.notebook import tqdm\n",
    "from multiprocessing import pool\n",
    "\n",
    "import matplotlib.pyplot as plt\n",
    "import seaborn as sns\n",
    "import networkx as nx\n",
    "import matplotlib.image as mpimg\n",
    "import matplotlib.pyplot as plt\n",
    "from matplotlib.offsetbox import OffsetImage, AnnotationBbox\n",
    "import geopandas\n",
    "\n",
    "from community import community_louvain as community\n",
    "\n",
    "from dcor._dcor_internals import _u_distance_matrix, u_complementary_projection\n",
    "from sklearn.manifold import MDS\n",
    "import gc\n",
    "import warnings \n",
    "warnings.filterwarnings('ignore')"
   ]
  },
  {
   "cell_type": "code",
   "execution_count": 4,
   "id": "883acb70",
   "metadata": {},
   "outputs": [],
   "source": [
    "std_values = pickle.load(open('C:\\\\Users\\\\ALIENWARE\\\\Desktop\\\\Utils\\\\dict_all_i_wb.pkl', 'rb'))"
   ]
  },
  {
   "cell_type": "code",
   "execution_count": 5,
   "id": "72279ebc",
   "metadata": {},
   "outputs": [],
   "source": [
    "def combinations(iterable, r):\n",
    "    # combinations('ABCD', 2) --> AB AC AD BC BD CD\n",
    "    # combinations(range(4), 3) --> 012 013 023 123\n",
    "    pool = tuple(iterable)\n",
    "    n = len(pool)\n",
    "    if r > n:\n",
    "        return\n",
    "    indices = list(range(r))\n",
    "    yield list(pool[i] for i in indices)\n",
    "    while True:\n",
    "        for i in reversed(range(r)):\n",
    "            if indices[i] != i + n - r:\n",
    "                break\n",
    "        else:\n",
    "            return\n",
    "        indices[i] += 1\n",
    "        for j in range(i+1, r):\n",
    "            indices[j] = indices[j-1] + 1\n",
    "        yield list(pool[i] for i in indices)"
   ]
  },
  {
   "cell_type": "code",
   "execution_count": 6,
   "id": "639b9bd6",
   "metadata": {},
   "outputs": [],
   "source": [
    "def combinations_tuple(iterable, r):\n",
    "    # combinations('ABCD', 2) --> AB AC AD BC BD CD\n",
    "    # combinations(range(4), 3) --> 012 013 023 123\n",
    "    pool = tuple(iterable)\n",
    "    n = len(pool)\n",
    "    if r > n:\n",
    "        return\n",
    "    indices = list(range(r))\n",
    "    yield tuple(pool[i] for i in indices)\n",
    "    while True:\n",
    "        for i in reversed(range(r)):\n",
    "            if indices[i] != i + n - r:\n",
    "                break\n",
    "        else:\n",
    "            return\n",
    "        indices[i] += 1\n",
    "        for j in range(i+1, r):\n",
    "            indices[j] = indices[j-1] + 1\n",
    "        yield tuple(pool[i] for i in indices)"
   ]
  },
  {
   "cell_type": "code",
   "execution_count": 7,
   "id": "d61f07fa",
   "metadata": {},
   "outputs": [],
   "source": [
    "\n",
    "def product(pool_0, pool_1):\n",
    "    result = [[x, y]+[z] for x, y in pool_0 for z in pool_1]    # ~ 40 Mio rows\n",
    "    for prod in result:\n",
    "        yield tuple(prod)"
   ]
  },
  {
   "cell_type": "code",
   "execution_count": 8,
   "id": "3d9f5a57",
   "metadata": {},
   "outputs": [],
   "source": [
    "# loading original and standardised data set\n",
    "dict_all = pickle.load(open('C:\\\\Users\\\\ALIENWARE\\\\Desktop\\\\Utils\\\\dict.pkl', 'rb'))\n",
    "dict_all_std = pickle.load(open('C:\\\\Users\\\\ALIENWARE\\\\Desktop\\\\Utils\\\\dict_std.pkl', 'rb'))\n",
    "variable=dict_all_std['Darlington'].index"
   ]
  },
  {
   "cell_type": "code",
   "execution_count": null,
   "id": "756489cc",
   "metadata": {},
   "outputs": [],
   "source": []
  },
  {
   "cell_type": "code",
   "execution_count": 9,
   "id": "4587e9bb",
   "metadata": {},
   "outputs": [],
   "source": [
    "# only take these variables:\n",
    "#variablenames = ['Economic activity rate - aged 16-64','earnings','Employment rate - aged 16-64','Unemployment rate males - aged 16-64','Unemployment rate females - aged 16-64']\n",
    "#variablelen = range(45)\n",
    "variablelen = [1,-6]\n",
    "# create list out of all unique combinations of goals for the first variablelen of  variables\n",
    "g_combinations = list(combinations(variable[variablelen], 2))\n"
   ]
  },
  {
   "cell_type": "code",
   "execution_count": 10,
   "id": "a0efb4b9",
   "metadata": {},
   "outputs": [],
   "source": [
    "# adding empty condition set for pairwise dcor\n",
    "pairs_g1 = pd.DataFrame.from_records(data=g_combinations, columns=['pair_0', 'pair_1'])\n",
    "pairs_g1['condition'] = '0'"
   ]
  },
  {
   "cell_type": "markdown",
   "id": "529bc21a",
   "metadata": {},
   "source": [
    "# Data Preparation"
   ]
  },
  {
   "cell_type": "code",
   "execution_count": 11,
   "id": "c232a73a",
   "metadata": {},
   "outputs": [],
   "source": [
    "# Data Preparation\n",
    "#data preparation\n",
    "continents_prep_g = {}\n",
    "\n",
    "#loading authorityname and dataset\n",
    "EMPLOYMENT = pd.read_csv(\"EMPLOYMENT.csv\",dtype = \"object\",na_values=[\"*\",\"-\",\"!\"],skiprows=6)\n",
    "\n",
    "Employmentall = EMPLOYMENT.dropna(subset=[\"row\"])\n",
    "a = ['row']\n",
    "Employmentall = Employmentall[~Employmentall['row'].isin(a)]\n",
    "Employmentall['year']=0\n",
    "for i in range(17):\n",
    "    Employmentall['year'][i*206:(i+1)*206] = 2004+i\n",
    "\n",
    "#recall authorityname\n",
    "authoritynames = list(Employmentall['local authority: county / unitary (as of April 2021)'].unique())\n",
    "#remove the authority with all nan values\n",
    "authoritynames.remove('Isles of Scilly')\n",
    "\n",
    " "
   ]
  },
  {
   "cell_type": "markdown",
   "id": "45e0c41b",
   "metadata": {},
   "source": [
    "# Pairwise distance correlation for unemployment and earning\n",
    "\n",
    "First define the value of year and its corresponding distance correlation by using distance_cor function "
   ]
  },
  {
   "cell_type": "code",
   "execution_count": 12,
   "id": "357b1e93",
   "metadata": {},
   "outputs": [],
   "source": [
    "yearval = range(2008,2021)\n",
    "\n",
    "def distance_cor(row):\n",
    "    pair_0, pair_1 = row\n",
    "    pair_0_mat=np.zeros([len(authoritynames),len(std_values['Darlington'].loc[pair_0,:][4:])])\n",
    "    pair_1_mat=np.zeros([len(authoritynames),len(std_values['Darlington'].loc[pair_1,:][4:])])\n",
    "    for ind in range(len(authoritynames)):\n",
    "        #only take 2008 onwards data\n",
    "        pair_0_mat[ind] = std_values[authoritynames[ind]].loc['earnings',:][4:]\n",
    "        pair_1_mat[ind] = std_values[authoritynames[ind]].loc['Unemployment rate - aged 16-64',:][4:]\n",
    "    \n",
    "    return dcor.distance_correlation(pair_0_mat, pair_1_mat)**2"
   ]
  },
  {
   "cell_type": "code",
   "execution_count": 13,
   "id": "81e2ff94",
   "metadata": {},
   "outputs": [],
   "source": [
    "dict_cor_goa_c_pair = pairs_g1.drop(columns=['condition']).copy(deep=True)     # pairs_g1 has empty conditional sets for pairwise dcor\n",
    "dict_cor_goa_c_pair_list = dict_cor_goa_c_pair.values.tolist()"
   ]
  },
  {
   "cell_type": "markdown",
   "id": "3e38ade2",
   "metadata": {},
   "source": [
    "Get the distance correlation value as following code"
   ]
  },
  {
   "cell_type": "code",
   "execution_count": 14,
   "id": "38f6ffdf",
   "metadata": {},
   "outputs": [
    {
     "name": "stdout",
     "output_type": "stream",
     "text": [
      "start dcor...\n",
      "...dcor done\n"
     ]
    }
   ],
   "source": [
    "# continents\n",
    "dict_cor_goals_continents_2_pair = {}\n",
    "\n",
    "\n",
    "    \n",
    "dict_cor_goa_c_pair = pairs_g1.drop(columns=['condition']).copy(deep=True)     # pairs_g1 has empty conditional sets for pairwise dcor\n",
    "    \n",
    "#pool = mp.Pool(int(mp.cpu_count()/2))\n",
    "    \n",
    "print('start dcor...')\n",
    "    \n",
    "dict_cor_goa_c_pair_list = dict_cor_goa_c_pair.values.tolist()\n",
    "    \n",
    "cor_results = np.zeros(len(dict_cor_goa_c_pair_list))\n",
    "for i in range(len(dict_cor_goa_c_pair_list)):\n",
    "        cor_results[i] = distance_cor(dict_cor_goa_c_pair_list[i])\n",
    "\n",
    "#pool.close()\n",
    "#pool.join()\n",
    "\n",
    "dict_cor_goa_c_pair['dcor_pair'] = cor_results\n",
    "    \n",
    "print('...dcor done')\n",
    "    \n",
    "dict_cor_goals_continents_2_pair= dict_cor_goa_c_pair"
   ]
  },
  {
   "cell_type": "markdown",
   "id": "4424bb2b",
   "metadata": {},
   "source": [
    "Also find the p-value to check the significance of such pairwise distance correlation:"
   ]
  },
  {
   "cell_type": "code",
   "execution_count": 15,
   "id": "2a6e9701",
   "metadata": {},
   "outputs": [],
   "source": [
    "\n",
    "dict_cor_goals_continents_2_pair['p-value'] = -1\n",
    "        \n",
    "# preparing pair_0 and pair_1\n",
    "             \n",
    "    \n",
    "pair_0_mat=np.zeros([len(authoritynames),len(std_values['Darlington'].loc['earnings',:][4:])])\n",
    "pair_1_mat=np.zeros([len(authoritynames),len(std_values['Darlington'].loc['Unemployment rate - aged 16-64',:][4:])])\n",
    "for ind in range(len(authoritynames)):\n",
    "        #only take 2008 onwards data\n",
    "        pair_0_mat[ind] = std_values[authoritynames[ind]].loc['earnings',:][4:]\n",
    "        pair_1_mat[ind] = std_values[authoritynames[ind]].loc['Unemployment rate - aged 16-64',:][4:]\n",
    "        \n",
    "    \n",
    "dict_cor_goals_continents_2_pair.loc[0,'p-value'] = dcor.independence.distance_covariance_test(np.array(pair_0_mat).astype(float), np.array(pair_1_mat).astype(float), num_resamples=10000).p_value"
   ]
  },
  {
   "cell_type": "code",
   "execution_count": 16,
   "id": "c9db589f",
   "metadata": {},
   "outputs": [
    {
     "data": {
      "text/html": [
       "<div>\n",
       "<style scoped>\n",
       "    .dataframe tbody tr th:only-of-type {\n",
       "        vertical-align: middle;\n",
       "    }\n",
       "\n",
       "    .dataframe tbody tr th {\n",
       "        vertical-align: top;\n",
       "    }\n",
       "\n",
       "    .dataframe thead th {\n",
       "        text-align: right;\n",
       "    }\n",
       "</style>\n",
       "<table border=\"1\" class=\"dataframe\">\n",
       "  <thead>\n",
       "    <tr style=\"text-align: right;\">\n",
       "      <th></th>\n",
       "      <th>pair_0</th>\n",
       "      <th>pair_1</th>\n",
       "      <th>dcor_pair</th>\n",
       "      <th>p-value</th>\n",
       "    </tr>\n",
       "  </thead>\n",
       "  <tbody>\n",
       "    <tr>\n",
       "      <th>0</th>\n",
       "      <td>Employment rate - aged 16-64</td>\n",
       "      <td>earnings</td>\n",
       "      <td>0.187912</td>\n",
       "      <td>0.0011</td>\n",
       "    </tr>\n",
       "  </tbody>\n",
       "</table>\n",
       "</div>"
      ],
      "text/plain": [
       "                         pair_0    pair_1  dcor_pair  p-value\n",
       "0  Employment rate - aged 16-64  earnings   0.187912   0.0011"
      ]
     },
     "execution_count": 16,
     "metadata": {},
     "output_type": "execute_result"
    }
   ],
   "source": [
    "#check\n",
    "dict_cor_goals_continents_2_pair"
   ]
  },
  {
   "cell_type": "markdown",
   "id": "fa1ff6af",
   "metadata": {},
   "source": [
    " "
   ]
  },
  {
   "cell_type": "markdown",
   "id": "c1431e42",
   "metadata": {},
   "source": [
    " "
   ]
  },
  {
   "cell_type": "markdown",
   "id": "4891bd7d",
   "metadata": {},
   "source": [
    "# Data extraction for councils for specific year period for unemployment\n",
    "As required in the first point of email, can see the historic data of each variable of each authority/council as a vector (or time-series). Instead of ten year period, the dataset is able to produce a 13-year-period time series dataset for each authority. Therefore, choose the time period to be from 2008 to 2020 to include as much information as possible."
   ]
  },
  {
   "cell_type": "code",
   "execution_count": 17,
   "id": "ebfbc7bb",
   "metadata": {},
   "outputs": [],
   "source": [
    "#the time period is chosen to be from 2008 to 2020 \n",
    "time_period_start = 4 #the seventh column of the std_values stands for year 2011\n",
    "\n",
    "def distance_cor_authority(authority1,authority2):\n",
    "    #only take ten year data\n",
    "    pair_0_array = std_values[authority1].loc['earnings',:][time_period_start:]\n",
    "    pair_1_array = std_values[authority2].loc['Unemployment rate - aged 16-64',:][time_period_start:]\n",
    "    p_value = dcor.independence.distance_covariance_test(np.array(pair_0_array).astype(float), np.array(pair_1_array).astype(float), num_resamples=10000).p_value\n",
    "    return [dcor.distance_correlation(pair_0_array, pair_1_array)**2,p_value]"
   ]
  },
  {
   "cell_type": "markdown",
   "id": "7b278696",
   "metadata": {},
   "source": [
    " "
   ]
  },
  {
   "cell_type": "markdown",
   "id": "b9773514",
   "metadata": {},
   "source": [
    " "
   ]
  },
  {
   "cell_type": "markdown",
   "id": "03557509",
   "metadata": {},
   "source": [
    " "
   ]
  },
  {
   "cell_type": "markdown",
   "id": "f4ff0582",
   "metadata": {},
   "source": [
    "# Find all pairs of condition set that makes the correlation independent\n",
    "\n",
    "Here, we consider both partial distance correlation and pairwise distance correlation by looping over specific condition dataset. The dataset is set by usage of combination function defined in the initialization section. We also consider the special case when condition dataset is empty (which is exactly pairwise distance correlation). \n",
    "\n",
    "First, we proceed step 1, where we find all potential pairs of condition set. We take all the variables that accounts for all genders."
   ]
  },
  {
   "cell_type": "code",
   "execution_count": 18,
   "id": "3a62fb60",
   "metadata": {},
   "outputs": [
    {
     "data": {
      "text/plain": [
       "Index(['Economic activity rate - aged 16-64', 'Employment rate - aged 16-64',\n",
       "       '% aged 16-64 who are employees', '% aged 16-64 who are self employed',\n",
       "       'Unemployment rate - aged 16-64', 'Unemployment rate - aged 16+',\n",
       "       '% who are economically inactive - aged 16-64',\n",
       "       '% of economically inactive who want a job',\n",
       "       '% of economically inactive who do not want a job',\n",
       "       'Economic activity rate males - aged 16-64',\n",
       "       'Employment rate males - aged 16-64',\n",
       "       '% of males aged 16-64 who are employees',\n",
       "       '% of males aged 16-64 who are self employed',\n",
       "       'Unemployment rate males - aged 16-64',\n",
       "       'Unemployment rate males - aged 16+',\n",
       "       '% of  males who are economically inactive - aged 16-64',\n",
       "       '% of economically inactive males who want a job',\n",
       "       '% of economically inactive males who do not want a job',\n",
       "       'Economic activity rate females - aged 16-64',\n",
       "       'Employment rate females - aged 16-64',\n",
       "       '% of females aged 16-64 who are employees',\n",
       "       '% of females aged 16-64 who are self employed',\n",
       "       'Unemployment rate females - aged 16-64',\n",
       "       'Unemployment rate females - aged 16+',\n",
       "       '% of females who are economically inactive - aged 16-64',\n",
       "       '% of economically inactive females who want a job',\n",
       "       '% of economically inactive females who do not want a job',\n",
       "       '% all in employment who are - 1: managers, directors and senior officials (SOC2010)',\n",
       "       '% all in employment who are - 2: professional occupations (SOC2010)',\n",
       "       '% all in employment who are - 3: associate prof & tech occupations (SOC2010)',\n",
       "       '% all in employment who are - 4: administrative and secretarial occupations (SOC2010)',\n",
       "       '% all in employment who are - 5: skilled trades occupations (SOC2010)',\n",
       "       '% all in employment who are - 6: caring, leisure and other service occupations (SOC2010)',\n",
       "       '% all in employment who are - 7: sales and customer service occupations (SOC2010)',\n",
       "       '% all in employment who are - 8: process, plant and machine operatives (SOC2010)',\n",
       "       '% all in employment who are - 9: elementary occupations (SOC2010)',\n",
       "       'aged 16-64 employment rate - ethnic minority',\n",
       "       '16+ unemployment rate - ethnic minority',\n",
       "       '% of  ethnic minority aged 16-64 who are economically inactive',\n",
       "       '% with NVQ4+ - aged 16-64', '% with NVQ3+ - aged 16-64',\n",
       "       '% with NVQ2+ - aged 16-64', '% with NVQ1+ - aged 16-64',\n",
       "       '% with other qualifications (NVQ) - aged 16-64',\n",
       "       '% with no qualifications (NVQ) - aged 16-64',\n",
       "       '% of all people aged 16+ who are male',\n",
       "       '% of all people aged 16+ who are female',\n",
       "       '% of all people aged 16+ who are aged 16-64', 'earnings',\n",
       "       'earnings_25', 'earnings_75', 'population_density', 'authority_type',\n",
       "       'authority_region'],\n",
       "      dtype='object')"
      ]
     },
     "execution_count": 18,
     "metadata": {},
     "output_type": "execute_result"
    }
   ],
   "source": [
    "variable"
   ]
  },
  {
   "cell_type": "code",
   "execution_count": 19,
   "id": "8aaabfd4",
   "metadata": {},
   "outputs": [
    {
     "data": {
      "text/plain": [
       "13"
      ]
     },
     "execution_count": 19,
     "metadata": {},
     "output_type": "execute_result"
    }
   ],
   "source": [
    "#this accounts for all variables without unemployment and earnings\n",
    "#variablelen = [0, 27,-3]\n",
    "variablelen = [0, 27, 28, 29, 30, 31,32,33,34,35, 39,-9, -3 ]\n",
    "#number of total variables\n",
    "len(variablelen)"
   ]
  },
  {
   "cell_type": "code",
   "execution_count": 20,
   "id": "0a9a26c0",
   "metadata": {},
   "outputs": [],
   "source": [
    "# create list out of all unique combinations of goals for combinations\n",
    "conditions_g = []\n",
    "conditions_g_tuple = []\n",
    "#here consider all combination\n",
    "for i in range(1, len(variablelen)+1):\n",
    "    conditions_g.extend(list(combinations(variable[variablelen], i)))\n",
    "    conditions_g_tuple.extend(tuple(combinations_tuple(variable[variablelen], i)))\n",
    "\n",
    "pairs = list(product(g_combinations, conditions_g_tuple))\n",
    "pairs_g0 = pd.DataFrame.from_records(pairs, columns=['pair_0', 'pair_1', 'condition'])\n"
   ]
  },
  {
   "cell_type": "code",
   "execution_count": 21,
   "id": "d3e1c3c3",
   "metadata": {},
   "outputs": [
    {
     "name": "stdout",
     "output_type": "stream",
     "text": [
      "8191\n"
     ]
    }
   ],
   "source": [
    "#how many number of combinations\n",
    "print(len(pairs_g0))"
   ]
  },
  {
   "cell_type": "markdown",
   "id": "42d3b61f",
   "metadata": {},
   "source": [
    "By having the condition pairs, we can get the corresponding partial distance correlation and p value. Here we consider partial distance correlation for non empty condition set:\n",
    "\n",
    "### Partial distance correlation with condition set \n",
    "\n",
    "First, define the partial distance correlation:"
   ]
  },
  {
   "cell_type": "code",
   "execution_count": 20,
   "id": "68adc7de",
   "metadata": {},
   "outputs": [],
   "source": [
    "def partial_distance_cor(cond,conditions_dict):\n",
    "    pair_0_mat=np.zeros([len(authoritynames),len(std_values['Darlington'].loc['earnings',:][4:])])\n",
    "    pair_1_mat=np.zeros([len(authoritynames),len(std_values['Darlington'].loc['Unemployment rate - aged 16-64',:][4:])])\n",
    "    for ind in range(len(authoritynames)):\n",
    "        #only take 2008 onwards data\n",
    "        pair_0_mat[ind] = std_values[authoritynames[ind]].loc['earnings',:][4:]\n",
    "        pair_1_mat[ind] = std_values[authoritynames[ind]].loc['Unemployment rate - aged 16-64',:][4:]\n",
    "        \n",
    "    #condition_array = conditions_dict[str(cond)].T\n",
    "    condition_array = conditions_dict[str(cond)]\n",
    "    \n",
    "    #return dcor.partial_distance_correlation(pair_0_mat.T, pair_1_mat.T, condition_array)**2\n",
    "    return dcor.partial_distance_correlation(pair_0_mat, pair_1_mat, condition_array)\n"
   ]
  },
  {
   "cell_type": "code",
   "execution_count": 21,
   "id": "52fd28a9",
   "metadata": {},
   "outputs": [],
   "source": [
    "def partial_distance_pval(cond,conditions_dict):\n",
    "    pair_0_mat=np.zeros([len(authoritynames),len(std_values['Darlington'].loc['earnings',:][4:])])\n",
    "    pair_1_mat=np.zeros([len(authoritynames),len(std_values['Darlington'].loc['Unemployment rate - aged 16-64',:][4:])])\n",
    "    for ind in range(len(authoritynames)):\n",
    "        #only take 2008 onwards data\n",
    "        pair_0_mat[ind] = std_values[authoritynames[ind]].loc['earnings',:][4:]\n",
    "        pair_1_mat[ind] = std_values[authoritynames[ind]].loc['Unemployment rate - aged 16-64',:][4:]\n",
    "        \n",
    "    #condition_array = conditions_dict[str(cond)].T\n",
    "    condition_array = conditions_dict[str(cond)]\n",
    "    cond_array = np.asarray(condition_array).astype(float)\n",
    "    \n",
    "    #return dcor.independence.partial_distance_covariance_test(np.array(pair_0_mat.T).astype(float), np.array(pair_1_mat.T).astype(float), cond_array, num_resamples=1000).p_value \n",
    "    return dcor.independence.partial_distance_covariance_test(np.array(pair_0_mat).astype(float), np.array(pair_1_mat).astype(float), cond_array, num_resamples=1000).p_value \n",
    "\n"
   ]
  },
  {
   "cell_type": "markdown",
   "id": "9362eab8",
   "metadata": {},
   "source": [
    "We also need to prepare the array values for condtion set"
   ]
  },
  {
   "cell_type": "code",
   "execution_count": 22,
   "id": "6734a277",
   "metadata": {},
   "outputs": [],
   "source": [
    "def authoritycondition ():# preparing conditional set\n",
    "    conditions_dict = {}\n",
    "    for cond in tqdm(conditions_g_tuple):\n",
    "        #for cond in conditions_g_tuple_4:\n",
    "        #first create a zero vector with length = 2020-2008+1=13\n",
    "        condition = np.zeros([205,1])\n",
    "        #condition = []\n",
    "        for c in cond:   \n",
    "            pair_mat=np.zeros([len(authoritynames),len(std_values['Darlington'].loc[c,:][4:])])\n",
    "            #only take 2008 onwards data so starts from the 5th value for each row in time series\n",
    "            #condition.extend(std_values[authority].loc[c][4:].T)\n",
    "            for ind in range(len(authoritynames)):\n",
    "                #only take 2008 onwards data\n",
    "                pair_mat[ind] = (std_values[authoritynames[ind]].loc[c,:][4:])\n",
    "            \n",
    "            \n",
    "            #vertically append all values so that each column corresponds to different condition of different years\n",
    "            condition = np.column_stack((condition,pair_mat))\n",
    "        \n",
    "        conditions_dict[str(cond)] = condition[:,1:]\n",
    "        #conditions_dict[str(cond)] = condition\n",
    "    #conditions_dict[str(cond)] = np.asarray(condition)\n",
    "    return conditions_dict"
   ]
  },
  {
   "cell_type": "markdown",
   "id": "177fe643",
   "metadata": {},
   "source": [
    "Here we create dict_cor_pdcor to store all these values in such dictionary. Each have condition list as one column, pdcor as another column and p-value as the last column. "
   ]
  },
  {
   "cell_type": "code",
   "execution_count": 23,
   "id": "782646d4",
   "metadata": {
    "scrolled": true
   },
   "outputs": [
    {
     "data": {
      "application/vnd.jupyter.widget-view+json": {
       "model_id": "5d09dadbd3f9486f816d8249ac9b96c2",
       "version_major": 2,
       "version_minor": 0
      },
      "text/plain": [
       "  0%|          | 0/8191 [00:00<?, ?it/s]"
      ]
     },
     "metadata": {},
     "output_type": "display_data"
    },
    {
     "name": "stdout",
     "output_type": "stream",
     "text": [
      "(205, 39)\n"
     ]
    }
   ],
   "source": [
    "\n",
    "#Get conditions\n",
    "conditions_dict = authoritycondition()\n",
    "#check condition shape\n",
    "print(conditions_dict[\"('% all in employment who are - 4: administrative and secretarial occupations (SOC2010)', '% all in employment who are - 8: process, plant and machine operatives (SOC2010)', 'population_density')\"].shape)\n",
    "\n",
    "#there is an extra line here for the pairwise correlation case: empty condition set\n",
    "dict_cor_pdcor = pd.DataFrame(index=range(len(pairs_g0)+1), columns=['condition_list', 'dcor','p-value'])\n",
    "    \n",
    "for i in range(len(pairs_g0)):\n",
    "    dict_cor_pdcor.loc[i,'condition_list'] = pairs_g0.loc[i,'condition']\n",
    "    dict_cor_pdcor.loc[i,'dcor'] = partial_distance_cor(pairs_g0.loc[i,'condition'],conditions_dict)\n",
    "    dict_cor_pdcor.loc[i,'p-value'] = partial_distance_pval(pairs_g0.loc[i,'condition'],conditions_dict)"
   ]
  },
  {
   "cell_type": "markdown",
   "id": "08504677",
   "metadata": {},
   "source": [
    "Former analysis consider non empty condition set. Here we consider pairse distance correlation for empty condition set:\n",
    "\n"
   ]
  },
  {
   "cell_type": "code",
   "execution_count": 24,
   "id": "2ce8dc3f",
   "metadata": {},
   "outputs": [],
   "source": [
    "for authority in authoritynames:\n",
    "    #here the condition set is empty, say 0\n",
    "    dict_cor_pdcor.loc[len(pairs_g0),'condition_list']=0\n",
    "    #here the dcor value is pairwise distance correlation\n",
    "    dict_cor_pdcor.loc[len(pairs_g0),'dcor'] = dict_cor_goals_continents_2_pair.loc[0,'dcor_pair'] \n",
    "    dict_cor_pdcor.loc[len(pairs_g0),'p-value'] = dict_cor_goals_continents_2_pair.loc[0,'p-value'] \n",
    "\n",
    "    \n"
   ]
  },
  {
   "cell_type": "code",
   "execution_count": 25,
   "id": "b1d648f5",
   "metadata": {},
   "outputs": [
    {
     "data": {
      "text/html": [
       "<div>\n",
       "<style scoped>\n",
       "    .dataframe tbody tr th:only-of-type {\n",
       "        vertical-align: middle;\n",
       "    }\n",
       "\n",
       "    .dataframe tbody tr th {\n",
       "        vertical-align: top;\n",
       "    }\n",
       "\n",
       "    .dataframe thead th {\n",
       "        text-align: right;\n",
       "    }\n",
       "</style>\n",
       "<table border=\"1\" class=\"dataframe\">\n",
       "  <thead>\n",
       "    <tr style=\"text-align: right;\">\n",
       "      <th></th>\n",
       "      <th>condition_list</th>\n",
       "      <th>dcor</th>\n",
       "      <th>p-value</th>\n",
       "    </tr>\n",
       "  </thead>\n",
       "  <tbody>\n",
       "    <tr>\n",
       "      <th>0</th>\n",
       "      <td>(Economic activity rate - aged 16-64,)</td>\n",
       "      <td>0.009406</td>\n",
       "      <td>0.083916</td>\n",
       "    </tr>\n",
       "    <tr>\n",
       "      <th>1</th>\n",
       "      <td>(% all in employment who are - 1: managers, di...</td>\n",
       "      <td>0.009487</td>\n",
       "      <td>0.087912</td>\n",
       "    </tr>\n",
       "    <tr>\n",
       "      <th>2</th>\n",
       "      <td>(% all in employment who are - 2: professional...</td>\n",
       "      <td>0.009416</td>\n",
       "      <td>0.086913</td>\n",
       "    </tr>\n",
       "    <tr>\n",
       "      <th>3</th>\n",
       "      <td>(% all in employment who are - 3: associate pr...</td>\n",
       "      <td>0.009457</td>\n",
       "      <td>0.083916</td>\n",
       "    </tr>\n",
       "    <tr>\n",
       "      <th>4</th>\n",
       "      <td>(% all in employment who are - 4: administrati...</td>\n",
       "      <td>0.009404</td>\n",
       "      <td>0.115884</td>\n",
       "    </tr>\n",
       "    <tr>\n",
       "      <th>...</th>\n",
       "      <td>...</td>\n",
       "      <td>...</td>\n",
       "      <td>...</td>\n",
       "    </tr>\n",
       "    <tr>\n",
       "      <th>8187</th>\n",
       "      <td>(Economic activity rate - aged 16-64, % all in...</td>\n",
       "      <td>0.009222</td>\n",
       "      <td>0.095904</td>\n",
       "    </tr>\n",
       "    <tr>\n",
       "      <th>8188</th>\n",
       "      <td>(Economic activity rate - aged 16-64, % all in...</td>\n",
       "      <td>0.009315</td>\n",
       "      <td>0.093906</td>\n",
       "    </tr>\n",
       "    <tr>\n",
       "      <th>8189</th>\n",
       "      <td>(% all in employment who are - 1: managers, di...</td>\n",
       "      <td>0.009269</td>\n",
       "      <td>0.075924</td>\n",
       "    </tr>\n",
       "    <tr>\n",
       "      <th>8190</th>\n",
       "      <td>(Economic activity rate - aged 16-64, % all in...</td>\n",
       "      <td>0.00926</td>\n",
       "      <td>0.095904</td>\n",
       "    </tr>\n",
       "    <tr>\n",
       "      <th>8191</th>\n",
       "      <td>0</td>\n",
       "      <td>0.187912</td>\n",
       "      <td>0.0013</td>\n",
       "    </tr>\n",
       "  </tbody>\n",
       "</table>\n",
       "<p>8192 rows × 3 columns</p>\n",
       "</div>"
      ],
      "text/plain": [
       "                                         condition_list      dcor   p-value\n",
       "0                (Economic activity rate - aged 16-64,)  0.009406  0.083916\n",
       "1     (% all in employment who are - 1: managers, di...  0.009487  0.087912\n",
       "2     (% all in employment who are - 2: professional...  0.009416  0.086913\n",
       "3     (% all in employment who are - 3: associate pr...  0.009457  0.083916\n",
       "4     (% all in employment who are - 4: administrati...  0.009404  0.115884\n",
       "...                                                 ...       ...       ...\n",
       "8187  (Economic activity rate - aged 16-64, % all in...  0.009222  0.095904\n",
       "8188  (Economic activity rate - aged 16-64, % all in...  0.009315  0.093906\n",
       "8189  (% all in employment who are - 1: managers, di...  0.009269  0.075924\n",
       "8190  (Economic activity rate - aged 16-64, % all in...   0.00926  0.095904\n",
       "8191                                                  0  0.187912    0.0013\n",
       "\n",
       "[8192 rows x 3 columns]"
      ]
     },
     "execution_count": 25,
     "metadata": {},
     "output_type": "execute_result"
    }
   ],
   "source": [
    "dict_cor_pdcor"
   ]
  },
  {
   "cell_type": "code",
   "execution_count": 26,
   "id": "8ab5e24d",
   "metadata": {},
   "outputs": [
    {
     "data": {
      "text/html": [
       "<div>\n",
       "<style scoped>\n",
       "    .dataframe tbody tr th:only-of-type {\n",
       "        vertical-align: middle;\n",
       "    }\n",
       "\n",
       "    .dataframe tbody tr th {\n",
       "        vertical-align: top;\n",
       "    }\n",
       "\n",
       "    .dataframe thead th {\n",
       "        text-align: right;\n",
       "    }\n",
       "</style>\n",
       "<table border=\"1\" class=\"dataframe\">\n",
       "  <thead>\n",
       "    <tr style=\"text-align: right;\">\n",
       "      <th></th>\n",
       "      <th>condition_list</th>\n",
       "      <th>dcor</th>\n",
       "      <th>p-value</th>\n",
       "    </tr>\n",
       "  </thead>\n",
       "  <tbody>\n",
       "    <tr>\n",
       "      <th>0</th>\n",
       "      <td>(Economic activity rate - aged 16-64,)</td>\n",
       "      <td>0.009406</td>\n",
       "      <td>0.083916</td>\n",
       "    </tr>\n",
       "    <tr>\n",
       "      <th>1</th>\n",
       "      <td>(% all in employment who are - 1: managers, di...</td>\n",
       "      <td>0.009487</td>\n",
       "      <td>0.087912</td>\n",
       "    </tr>\n",
       "    <tr>\n",
       "      <th>2</th>\n",
       "      <td>(% all in employment who are - 2: professional...</td>\n",
       "      <td>0.009416</td>\n",
       "      <td>0.086913</td>\n",
       "    </tr>\n",
       "    <tr>\n",
       "      <th>3</th>\n",
       "      <td>(% all in employment who are - 3: associate pr...</td>\n",
       "      <td>0.009457</td>\n",
       "      <td>0.083916</td>\n",
       "    </tr>\n",
       "    <tr>\n",
       "      <th>4</th>\n",
       "      <td>(% all in employment who are - 4: administrati...</td>\n",
       "      <td>0.009404</td>\n",
       "      <td>0.115884</td>\n",
       "    </tr>\n",
       "    <tr>\n",
       "      <th>5</th>\n",
       "      <td>(% all in employment who are - 5: skilled trad...</td>\n",
       "      <td>0.009405</td>\n",
       "      <td>0.084915</td>\n",
       "    </tr>\n",
       "    <tr>\n",
       "      <th>6</th>\n",
       "      <td>(% all in employment who are - 6: caring, leis...</td>\n",
       "      <td>0.009272</td>\n",
       "      <td>0.110889</td>\n",
       "    </tr>\n",
       "    <tr>\n",
       "      <th>7</th>\n",
       "      <td>(% all in employment who are - 7: sales and cu...</td>\n",
       "      <td>0.009473</td>\n",
       "      <td>0.085914</td>\n",
       "    </tr>\n",
       "    <tr>\n",
       "      <th>8</th>\n",
       "      <td>(% all in employment who are - 8: process, pla...</td>\n",
       "      <td>0.009397</td>\n",
       "      <td>0.098901</td>\n",
       "    </tr>\n",
       "    <tr>\n",
       "      <th>9</th>\n",
       "      <td>(% all in employment who are - 9: elementary o...</td>\n",
       "      <td>0.009468</td>\n",
       "      <td>0.112887</td>\n",
       "    </tr>\n",
       "    <tr>\n",
       "      <th>10</th>\n",
       "      <td>(% with NVQ4+ - aged 16-64,)</td>\n",
       "      <td>0.009238</td>\n",
       "      <td>0.087912</td>\n",
       "    </tr>\n",
       "    <tr>\n",
       "      <th>11</th>\n",
       "      <td>(% of all people aged 16+ who are male,)</td>\n",
       "      <td>0.00939</td>\n",
       "      <td>0.082917</td>\n",
       "    </tr>\n",
       "    <tr>\n",
       "      <th>12</th>\n",
       "      <td>(population_density,)</td>\n",
       "      <td>0.008656</td>\n",
       "      <td>0.08991</td>\n",
       "    </tr>\n",
       "  </tbody>\n",
       "</table>\n",
       "</div>"
      ],
      "text/plain": [
       "                                       condition_list      dcor   p-value\n",
       "0              (Economic activity rate - aged 16-64,)  0.009406  0.083916\n",
       "1   (% all in employment who are - 1: managers, di...  0.009487  0.087912\n",
       "2   (% all in employment who are - 2: professional...  0.009416  0.086913\n",
       "3   (% all in employment who are - 3: associate pr...  0.009457  0.083916\n",
       "4   (% all in employment who are - 4: administrati...  0.009404  0.115884\n",
       "5   (% all in employment who are - 5: skilled trad...  0.009405  0.084915\n",
       "6   (% all in employment who are - 6: caring, leis...  0.009272  0.110889\n",
       "7   (% all in employment who are - 7: sales and cu...  0.009473  0.085914\n",
       "8   (% all in employment who are - 8: process, pla...  0.009397  0.098901\n",
       "9   (% all in employment who are - 9: elementary o...  0.009468  0.112887\n",
       "10                       (% with NVQ4+ - aged 16-64,)  0.009238  0.087912\n",
       "11           (% of all people aged 16+ who are male,)   0.00939  0.082917\n",
       "12                              (population_density,)  0.008656   0.08991"
      ]
     },
     "execution_count": 26,
     "metadata": {},
     "output_type": "execute_result"
    }
   ],
   "source": [
    "dict_cor_pdcor.iloc[:13,:]"
   ]
  },
  {
   "cell_type": "code",
   "execution_count": 27,
   "id": "621e0462",
   "metadata": {},
   "outputs": [
    {
     "data": {
      "text/plain": [
       "condition_list    (Economic activity rate - aged 16-64, % all in...\n",
       "dcor                                                        0.00926\n",
       "p-value                                                    0.095904\n",
       "Name: 8190, dtype: object"
      ]
     },
     "execution_count": 27,
     "metadata": {},
     "output_type": "execute_result"
    }
   ],
   "source": [
    "#condition set combining all conditions\n",
    "dict_cor_pdcor.iloc[-2,:]"
   ]
  },
  {
   "cell_type": "markdown",
   "id": "368c7391",
   "metadata": {},
   "source": [
    " "
   ]
  },
  {
   "cell_type": "markdown",
   "id": "12ca1d3f",
   "metadata": {},
   "source": [
    " "
   ]
  },
  {
   "cell_type": "markdown",
   "id": "cb39cdca",
   "metadata": {},
   "source": [
    " "
   ]
  },
  {
   "cell_type": "markdown",
   "id": "6f8d524a",
   "metadata": {},
   "source": [
    "# Identify the condition list that makes the unemployment rate and earning no longer significant\n",
    "\n",
    "The condition set which we are interested in are the set with p-value that is no longer significant. i.e. p-value>0.05.\n",
    "\n",
    "Some condition set may make p-value no longer significant in some authority but not the other. Therefore, I will try to identify all the condition set that makes correlation non-significant in all authority to make sure it has the generalized property. "
   ]
  },
  {
   "cell_type": "code",
   "execution_count": 28,
   "id": "3ea74520",
   "metadata": {},
   "outputs": [
    {
     "data": {
      "text/plain": [
       "8191"
      ]
     },
     "execution_count": 28,
     "metadata": {},
     "output_type": "execute_result"
    }
   ],
   "source": [
    "len(pairs_g0.loc[:,'condition'])"
   ]
  },
  {
   "cell_type": "code",
   "execution_count": 29,
   "id": "230d8669",
   "metadata": {},
   "outputs": [
    {
     "data": {
      "text/plain": [
       "[('Economic activity rate - aged 16-64',\n",
       "  '% all in employment who are - 1: managers, directors and senior officials (SOC2010)',\n",
       "  '% all in employment who are - 2: professional occupations (SOC2010)',\n",
       "  '% all in employment who are - 3: associate prof & tech occupations (SOC2010)',\n",
       "  '% all in employment who are - 4: administrative and secretarial occupations (SOC2010)',\n",
       "  '% all in employment who are - 5: skilled trades occupations (SOC2010)',\n",
       "  '% all in employment who are - 6: caring, leisure and other service occupations (SOC2010)',\n",
       "  '% all in employment who are - 7: sales and customer service occupations (SOC2010)',\n",
       "  '% all in employment who are - 8: process, plant and machine operatives (SOC2010)',\n",
       "  '% all in employment who are - 9: elementary occupations (SOC2010)',\n",
       "  '% with NVQ4+ - aged 16-64',\n",
       "  '% of all people aged 16+ who are male',\n",
       "  'population_density'),\n",
       " 0.0959040959040959]"
      ]
     },
     "execution_count": 29,
     "metadata": {},
     "output_type": "execute_result"
    }
   ],
   "source": [
    "#Store all the condition set that are interested (makes correlation no longer significant)\n",
    "nonsig_conditionset = []\n",
    "\n",
    "#Identify the condition set that has p-value >0.05 for all authority\n",
    "for cond_num in range(len(pairs_g0.loc[:,'condition'])):\n",
    "    if dict_cor_pdcor.loc[cond_num,'p-value'] > 0.05:\n",
    "        #append it to the list of nonsig_conditionset\n",
    "        nonsig_conditionset.append([pairs_g0.loc[:,'condition'][cond_num],dict_cor_pdcor.loc[cond_num,'p-value']])\n",
    "           \n",
    "nonsig_conditionset[-1]"
   ]
  },
  {
   "cell_type": "code",
   "execution_count": 30,
   "id": "7819c175",
   "metadata": {},
   "outputs": [
    {
     "data": {
      "text/plain": [
       "8191"
      ]
     },
     "execution_count": 30,
     "metadata": {},
     "output_type": "execute_result"
    }
   ],
   "source": [
    "len(nonsig_conditionset)"
   ]
  },
  {
   "cell_type": "markdown",
   "id": "ca6e0895",
   "metadata": {},
   "source": [
    "It can be shown that all pairs considered are non-significant. The result will be discussed in the paper"
   ]
  },
  {
   "cell_type": "markdown",
   "id": "afbf070e",
   "metadata": {},
   "source": [
    "# Individual authority level\n",
    "\n",
    "The previous study has focus the correlation between unemployment and earning in an overall level with respect to all authority. It might be a good idea to focus the correlation between unemployment and earning in authority level. For each authority, we calculate the correlation based on the time serie data of 13 years and visualize it using geopandas."
   ]
  },
  {
   "cell_type": "code",
   "execution_count": 22,
   "id": "a5e19543",
   "metadata": {},
   "outputs": [],
   "source": [
    "#there is an extra line here for the pairwise correlation case: empty condition set\n",
    "authority_dict_cor_dcor = pd.DataFrame(index=range(len(authoritynames)), columns=['authorityname', 'dcor','p-value'])\n",
    "\n",
    "for i in range(len(authoritynames)):\n",
    "    authority_dict_cor_dcor.iloc[i,1] = dcor.distance_correlation(std_values[authoritynames[i]].iloc[4,4:],std_values[authoritynames[i]].iloc[-6,4:])**2\n",
    "    authority_dict_cor_dcor.iloc[i,2] = dcor.independence.distance_covariance_test(np.array(std_values[authoritynames[i]].iloc[4,4:]).astype(float), np.array(std_values[authoritynames[i]].iloc[-6,4:]).astype(float), num_resamples=10000).p_value\n",
    "    authority_dict_cor_dcor.iloc[i,0] = authoritynames[i]          \n",
    "                                          "
   ]
  },
  {
   "cell_type": "code",
   "execution_count": 23,
   "id": "1d84a3d7",
   "metadata": {},
   "outputs": [
    {
     "data": {
      "text/html": [
       "<div>\n",
       "<style scoped>\n",
       "    .dataframe tbody tr th:only-of-type {\n",
       "        vertical-align: middle;\n",
       "    }\n",
       "\n",
       "    .dataframe tbody tr th {\n",
       "        vertical-align: top;\n",
       "    }\n",
       "\n",
       "    .dataframe thead th {\n",
       "        text-align: right;\n",
       "    }\n",
       "</style>\n",
       "<table border=\"1\" class=\"dataframe\">\n",
       "  <thead>\n",
       "    <tr style=\"text-align: right;\">\n",
       "      <th></th>\n",
       "      <th>authorityname</th>\n",
       "      <th>dcor</th>\n",
       "      <th>p-value</th>\n",
       "    </tr>\n",
       "  </thead>\n",
       "  <tbody>\n",
       "    <tr>\n",
       "      <th>0</th>\n",
       "      <td>Darlington</td>\n",
       "      <td>0.471686</td>\n",
       "      <td>0.022698</td>\n",
       "    </tr>\n",
       "    <tr>\n",
       "      <th>1</th>\n",
       "      <td>County Durham</td>\n",
       "      <td>0.501586</td>\n",
       "      <td>0.014299</td>\n",
       "    </tr>\n",
       "    <tr>\n",
       "      <th>2</th>\n",
       "      <td>Hartlepool</td>\n",
       "      <td>0.40089</td>\n",
       "      <td>0.040696</td>\n",
       "    </tr>\n",
       "    <tr>\n",
       "      <th>3</th>\n",
       "      <td>Middlesbrough</td>\n",
       "      <td>0.490078</td>\n",
       "      <td>0.013099</td>\n",
       "    </tr>\n",
       "    <tr>\n",
       "      <th>4</th>\n",
       "      <td>Northumberland</td>\n",
       "      <td>0.192576</td>\n",
       "      <td>0.548845</td>\n",
       "    </tr>\n",
       "    <tr>\n",
       "      <th>...</th>\n",
       "      <td>...</td>\n",
       "      <td>...</td>\n",
       "      <td>...</td>\n",
       "    </tr>\n",
       "    <tr>\n",
       "      <th>200</th>\n",
       "      <td>South Ayrshire</td>\n",
       "      <td>0.307253</td>\n",
       "      <td>0.114989</td>\n",
       "    </tr>\n",
       "    <tr>\n",
       "      <th>201</th>\n",
       "      <td>South Lanarkshire</td>\n",
       "      <td>0.501119</td>\n",
       "      <td>0.011199</td>\n",
       "    </tr>\n",
       "    <tr>\n",
       "      <th>202</th>\n",
       "      <td>Stirling</td>\n",
       "      <td>0.585619</td>\n",
       "      <td>0.004</td>\n",
       "    </tr>\n",
       "    <tr>\n",
       "      <th>203</th>\n",
       "      <td>West Dunbartonshire</td>\n",
       "      <td>0.671703</td>\n",
       "      <td>0.0015</td>\n",
       "    </tr>\n",
       "    <tr>\n",
       "      <th>204</th>\n",
       "      <td>West Lothian</td>\n",
       "      <td>0.487757</td>\n",
       "      <td>0.017298</td>\n",
       "    </tr>\n",
       "  </tbody>\n",
       "</table>\n",
       "<p>205 rows × 3 columns</p>\n",
       "</div>"
      ],
      "text/plain": [
       "           authorityname      dcor   p-value\n",
       "0             Darlington  0.471686  0.022698\n",
       "1          County Durham  0.501586  0.014299\n",
       "2             Hartlepool   0.40089  0.040696\n",
       "3          Middlesbrough  0.490078  0.013099\n",
       "4         Northumberland  0.192576  0.548845\n",
       "..                   ...       ...       ...\n",
       "200       South Ayrshire  0.307253  0.114989\n",
       "201    South Lanarkshire  0.501119  0.011199\n",
       "202             Stirling  0.585619     0.004\n",
       "203  West Dunbartonshire  0.671703    0.0015\n",
       "204         West Lothian  0.487757  0.017298\n",
       "\n",
       "[205 rows x 3 columns]"
      ]
     },
     "execution_count": 23,
     "metadata": {},
     "output_type": "execute_result"
    }
   ],
   "source": [
    "authority_dict_cor_dcor"
   ]
  },
  {
   "cell_type": "markdown",
   "id": "61d55354",
   "metadata": {},
   "source": [
    "### For visualization "
   ]
  },
  {
   "cell_type": "code",
   "execution_count": 33,
   "id": "319d4010",
   "metadata": {},
   "outputs": [
    {
     "data": {
      "text/plain": [
       "<AxesSubplot:>"
      ]
     },
     "execution_count": 33,
     "metadata": {},
     "output_type": "execute_result"
    },
    {
     "data": {
      "image/png": "[encoded data removed]",
      "text/plain": [
       "<Figure size 432x288 with 1 Axes>"
      ]
     },
     "metadata": {
      "needs_background": "light"
     },
     "output_type": "display_data"
    }
   ],
   "source": [
    "#create a plotting for authority\n",
    "authority = geopandas.read_file('CTYUA_DEC_2021_UK_BFC.shp')\n",
    "authority.plot()"
   ]
  },
  {
   "cell_type": "markdown",
   "id": "6f971bc4",
   "metadata": {},
   "source": [
    "However, in such file, there are some authority that is inconsistent with the one we calculated. Therefore, need to manually assert data into the correspondant authority in shape file."
   ]
  },
  {
   "cell_type": "code",
   "execution_count": 34,
   "id": "1faa35a7",
   "metadata": {},
   "outputs": [],
   "source": [
    "#initialize empty set\n",
    "inauthoritylistdcor = np.zeros(len(authority['CTYUA21NM']))\n",
    "#loop over all authority\n",
    "for i in range(len(authority['CTYUA21NM'])):\n",
    "    for j in range(len(authoritynames)):\n",
    "        #if authorityname corresponds, get the value\n",
    "        if authority['CTYUA21NM'][i]==authority_dict_cor_dcor.iloc[j,0]:\n",
    "            inauthoritylistdcor[i]=authority_dict_cor_dcor.iloc[j,1]\n",
    "            break\n",
    "authority['dcor'] = inauthoritylistdcor\n",
    "authority = authority[authority['dcor']!=0]\n",
    "\n",
    "\n",
    "\n"
   ]
  },
  {
   "cell_type": "code",
   "execution_count": 35,
   "id": "51b17b56",
   "metadata": {
    "scrolled": true
   },
   "outputs": [
    {
     "data": {
      "text/plain": [
       "<AxesSubplot:>"
      ]
     },
     "execution_count": 35,
     "metadata": {},
     "output_type": "execute_result"
    },
    {
     "data": {
      "image/png": "[encoded data removed]",
      "text/plain": [
       "<Figure size 432x288 with 2 Axes>"
      ]
     },
     "metadata": {
      "needs_background": "light"
     },
     "output_type": "display_data"
    }
   ],
   "source": [
    "import matplotlib.pyplot as plt\n",
    "\n",
    "fig, ax = plt.subplots(1, 1)\n",
    "\n",
    "authority.plot(column='dcor', ax=ax, legend=True)"
   ]
  },
  {
   "cell_type": "markdown",
   "id": "93664cea",
   "metadata": {},
   "source": [
    "## Now consider partial distance correlation for all related conditions\n"
   ]
  },
  {
   "cell_type": "code",
   "execution_count": 27,
   "id": "3af917dd",
   "metadata": {},
   "outputs": [],
   "source": [
    "#there is an extra line here for the pairwise correlation case: empty condition set\n",
    "authority_dict_cor_pdcor = pd.DataFrame(index=range(len(authoritynames)), columns=['authorityname', 'pdcor','p-value'])\n",
    "\n",
    "\n",
    "for i in range(len(authoritynames)):\n",
    "    #initialize condition matrix to store 13 years of data for authority i with the value conresponding the variable \n",
    "    condition_mat = np.zeros([13,len(variablelen)])\n",
    "    for j in range(len(variablelen)):\n",
    "        condition_mat[:,j] = std_values[authoritynames[i]].iloc[j,4:]\n",
    "    authority_dict_cor_pdcor.iloc[i,1] = dcor.partial_distance_correlation(std_values[authoritynames[i]].iloc[4,4:],std_values[authoritynames[i]].iloc[-6,4:],condition_mat)**2\n",
    "    authority_dict_cor_pdcor.iloc[i,2] = dcor.independence.partial_distance_covariance_test(np.array(std_values[authoritynames[i]].iloc[4,4:]).astype(float), np.array(std_values[authoritynames[i]].iloc[-6,4:]).astype(float), condition_mat, num_resamples=1000).p_value \n",
    "    authority_dict_cor_pdcor.iloc[i,0] = authoritynames[i]          \n",
    "                                          "
   ]
  },
  {
   "cell_type": "code",
   "execution_count": 28,
   "id": "1c45af55",
   "metadata": {},
   "outputs": [
    {
     "data": {
      "text/html": [
       "<div>\n",
       "<style scoped>\n",
       "    .dataframe tbody tr th:only-of-type {\n",
       "        vertical-align: middle;\n",
       "    }\n",
       "\n",
       "    .dataframe tbody tr th {\n",
       "        vertical-align: top;\n",
       "    }\n",
       "\n",
       "    .dataframe thead th {\n",
       "        text-align: right;\n",
       "    }\n",
       "</style>\n",
       "<table border=\"1\" class=\"dataframe\">\n",
       "  <thead>\n",
       "    <tr style=\"text-align: right;\">\n",
       "      <th></th>\n",
       "      <th>authorityname</th>\n",
       "      <th>pdcor</th>\n",
       "      <th>p-value</th>\n",
       "    </tr>\n",
       "  </thead>\n",
       "  <tbody>\n",
       "    <tr>\n",
       "      <th>0</th>\n",
       "      <td>Darlington</td>\n",
       "      <td>0.042867</td>\n",
       "      <td>0.057942</td>\n",
       "    </tr>\n",
       "    <tr>\n",
       "      <th>1</th>\n",
       "      <td>County Durham</td>\n",
       "      <td>0.033795</td>\n",
       "      <td>0.932068</td>\n",
       "    </tr>\n",
       "    <tr>\n",
       "      <th>2</th>\n",
       "      <td>Hartlepool</td>\n",
       "      <td>0.033208</td>\n",
       "      <td>0.071928</td>\n",
       "    </tr>\n",
       "    <tr>\n",
       "      <th>3</th>\n",
       "      <td>Middlesbrough</td>\n",
       "      <td>0.035523</td>\n",
       "      <td>0.068931</td>\n",
       "    </tr>\n",
       "    <tr>\n",
       "      <th>4</th>\n",
       "      <td>Northumberland</td>\n",
       "      <td>0.005222</td>\n",
       "      <td>0.682318</td>\n",
       "    </tr>\n",
       "    <tr>\n",
       "      <th>...</th>\n",
       "      <td>...</td>\n",
       "      <td>...</td>\n",
       "      <td>...</td>\n",
       "    </tr>\n",
       "    <tr>\n",
       "      <th>200</th>\n",
       "      <td>South Ayrshire</td>\n",
       "      <td>0.023958</td>\n",
       "      <td>0.101898</td>\n",
       "    </tr>\n",
       "    <tr>\n",
       "      <th>201</th>\n",
       "      <td>South Lanarkshire</td>\n",
       "      <td>0.043313</td>\n",
       "      <td>0.04995</td>\n",
       "    </tr>\n",
       "    <tr>\n",
       "      <th>202</th>\n",
       "      <td>Stirling</td>\n",
       "      <td>0.261531</td>\n",
       "      <td>0.000999</td>\n",
       "    </tr>\n",
       "    <tr>\n",
       "      <th>203</th>\n",
       "      <td>West Dunbartonshire</td>\n",
       "      <td>0.09244</td>\n",
       "      <td>0.013986</td>\n",
       "    </tr>\n",
       "    <tr>\n",
       "      <th>204</th>\n",
       "      <td>West Lothian</td>\n",
       "      <td>0.06307</td>\n",
       "      <td>0.037962</td>\n",
       "    </tr>\n",
       "  </tbody>\n",
       "</table>\n",
       "<p>205 rows × 3 columns</p>\n",
       "</div>"
      ],
      "text/plain": [
       "           authorityname     pdcor   p-value\n",
       "0             Darlington  0.042867  0.057942\n",
       "1          County Durham  0.033795  0.932068\n",
       "2             Hartlepool  0.033208  0.071928\n",
       "3          Middlesbrough  0.035523  0.068931\n",
       "4         Northumberland  0.005222  0.682318\n",
       "..                   ...       ...       ...\n",
       "200       South Ayrshire  0.023958  0.101898\n",
       "201    South Lanarkshire  0.043313   0.04995\n",
       "202             Stirling  0.261531  0.000999\n",
       "203  West Dunbartonshire   0.09244  0.013986\n",
       "204         West Lothian   0.06307  0.037962\n",
       "\n",
       "[205 rows x 3 columns]"
      ]
     },
     "execution_count": 28,
     "metadata": {},
     "output_type": "execute_result"
    }
   ],
   "source": [
    "authority_dict_cor_pdcor"
   ]
  },
  {
   "cell_type": "markdown",
   "id": "14cb9f14",
   "metadata": {},
   "source": [
    "### For visualization\n",
    "\n",
    "Visualize the partial distance correlation:"
   ]
  },
  {
   "cell_type": "code",
   "execution_count": 36,
   "id": "2343bb69",
   "metadata": {},
   "outputs": [
    {
     "data": {
      "text/plain": [
       "<AxesSubplot:>"
      ]
     },
     "execution_count": 36,
     "metadata": {},
     "output_type": "execute_result"
    },
    {
     "data": {
      "image/png": "[encoded data removed]",
      "text/plain": [
       "<Figure size 432x288 with 2 Axes>"
      ]
     },
     "metadata": {
      "needs_background": "light"
     },
     "output_type": "display_data"
    }
   ],
   "source": [
    "#create a plotting for authority\n",
    "authority = geopandas.read_file('CTYUA_DEC_2021_UK_BFC.shp')\n",
    "#initialize empty set\n",
    "inauthoritylistpdcor = np.zeros(len(authority['CTYUA21NM']))\n",
    "#loop over all authority\n",
    "for i in range(len(authority['CTYUA21NM'])):\n",
    "    for j in range(len(authoritynames)):\n",
    "        #if authorityname corresponds, get the value\n",
    "        if authority['CTYUA21NM'][i]==authority_dict_cor_pdcor.iloc[j,0]:\n",
    "            inauthoritylistpdcor[i]=authority_dict_cor_pdcor.iloc[j,1]\n",
    "            break\n",
    "authority['pdcor'] = inauthoritylistpdcor\n",
    "authority = authority[authority['pdcor']!=0]\n",
    "\n",
    "\n",
    "fig, ax = plt.subplots(1, 1)\n",
    "authority.plot(column='pdcor', ax=ax, legend=True)\n"
   ]
  },
  {
   "cell_type": "code",
   "execution_count": 40,
   "id": "c8b6ff08",
   "metadata": {},
   "outputs": [
    {
     "name": "stdout",
     "output_type": "stream",
     "text": [
      "['Sandwell', 'Bridgend'] has correlation [0.7699614767551859, 0.8206751989783329] with p value [0.000999000999000999, 0.000999000999000999] respectively \n",
      "Other authority with high pdcor are: ['Warrington', 'Oldham', 'Sandwell', 'Cornwall', 'Denbighshire', 'Bridgend', 'Angus', 'Midlothian']\n",
      "These area has pvalue [0.000999000999000999, 0.000999000999000999, 0.000999000999000999, 0.000999000999000999, 0.000999000999000999, 0.000999000999000999, 0.000999000999000999, 0.000999000999000999]\n"
     ]
    }
   ],
   "source": [
    "pvalpdcor = authority_dict_cor_pdcor.iloc[:,1]\n",
    "\n",
    "idx = np.where(pvalpdcor > 0.6)[0]\n",
    "\n",
    "\n",
    "print(f'{[authority_dict_cor_pdcor.iloc[i,0] for i in idx]} has correlation {[authority_dict_cor_pdcor.iloc[i,1] for i in idx]} with p value {[authority_dict_cor_pdcor.iloc[i,2] for i in idx]} respectively ')\n",
    "\n",
    "\n",
    "pvalpdcor = authority_dict_cor_pdcor.iloc[:,1]\n",
    "idx = np.where(pvalpdcor > 0.4)[0]\n",
    "print(f'Other authority with high pdcor are: {[authority_dict_cor_pdcor.iloc[i,0] for i in idx]}')\n",
    "print(f'These area has pvalue {[authority_dict_cor_pdcor.iloc[i,2] for i in idx]}')"
   ]
  }
 ],
 "metadata": {
  "kernelspec": {
   "display_name": "Python 3 (ipykernel)",
   "language": "python",
   "name": "python3"
  },
  "language_info": {
   "codemirror_mode": {
    "name": "ipython",
    "version": 3
   },
   "file_extension": ".py",
   "mimetype": "text/x-python",
   "name": "python",
   "nbconvert_exporter": "python",
   "pygments_lexer": "ipython3",
   "version": "3.7.11"
  }
 },
 "nbformat": 4,
 "nbformat_minor": 5
}
